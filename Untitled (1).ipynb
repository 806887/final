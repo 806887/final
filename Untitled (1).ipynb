{
 "cells": [
  {
   "cell_type": "markdown",
   "id": "c751cbb5-b23d-4d39-a428-0e4d27d1fee9",
   "metadata": {},
   "source": [
    "# Data Science Tools and Ecosystem"
   ]
  },
  {
   "cell_type": "markdown",
   "id": "77d727e2-f419-4cb6-98d8-8a54de01744d",
   "metadata": {},
   "source": [
    "\n",
    "In this notebook, Data Science Tools and Ecosystem are summarized"
   ]
  },
  {
   "cell_type": "markdown",
   "id": "e843586c-96e2-442c-b935-15da1433abdd",
   "metadata": {},
   "source": [
    "Some of the popular languages that Data Scientists use are:\n",
    "1. python\n",
    "2. R\n",
    "3. SQL\n",
    "4. JAVA\n",
    "5. Scala"
   ]
  },
  {
   "cell_type": "markdown",
   "id": "59fb653c-8806-47e4-80ab-24cd2f8f7b40",
   "metadata": {},
   "source": [
    "Some of the commonly used libraries used by Data Scientists include:\n",
    "1. scientific computing libraries in python\n",
    "2. visualization libraries\n",
    "3. machine learning and deep learning libraries"
   ]
  },
  {
   "cell_type": "markdown",
   "id": "394d3596-796d-4e9a-9417-95d9990ea19b",
   "metadata": {},
   "source": [
    "| Data Science Tools |\n",
    "|--------------------|\n",
    "| Jupyter Notebook |\n",
    "| Jupyter Lab |\n",
    "| Anaconda |\n",
    "| Vs code |"
   ]
  },
  {
   "cell_type": "markdown",
   "id": "34469dc6-f405-4e30-aae6-0a63ed6332d3",
   "metadata": {},
   "source": [
    "### Below are a few examples of evaluating arithmetic expressions in Python."
   ]
  },
  {
   "cell_type": "code",
   "execution_count": 1,
   "id": "627ed3db-0620-4ad0-a118-b86828d61565",
   "metadata": {
    "tags": []
   },
   "outputs": [
    {
     "data": {
      "text/plain": [
       "17"
      ]
     },
     "execution_count": 1,
     "metadata": {},
     "output_type": "execute_result"
    }
   ],
   "source": [
    "# This a simple arithmetic expression to mutiply then add integers\n",
    "(3*4)+5"
   ]
  },
  {
   "cell_type": "code",
   "execution_count": 7,
   "id": "6557f66e-8e91-4c28-8f8d-0d7dea352653",
   "metadata": {
    "tags": []
   },
   "outputs": [
    {
     "data": {
      "text/plain": [
       "3.3333333333333335"
      ]
     },
     "execution_count": 7,
     "metadata": {},
     "output_type": "execute_result"
    }
   ],
   "source": [
    "#  This will convert 200 minutes to hours by diving by 60\n",
    "200/60"
   ]
  },
  {
   "cell_type": "markdown",
   "id": "11aaaa1c-0013-4575-8eef-61a95decca14",
   "metadata": {},
   "source": [
    "**Objectives:**\n",
    "1.List popular languages for Data Science.\n",
    "2.List commonly used libraries in Python.\n",
    "3.List developed environment open source tools in Data Science.\n",
    "4.Evaluating arithmetic expression in Python.\n",
    "5.Create expression to convert minute into hours."
   ]
  },
  {
   "cell_type": "markdown",
   "id": "a9ba0420-2471-4e56-9410-ccf00825a3ae",
   "metadata": {},
   "source": [
    "## Author\n",
    "pranjali"
   ]
  },
  {
   "cell_type": "code",
   "execution_count": null,
   "id": "427fc786-5b44-46cf-bead-2d6b65a0b09e",
   "metadata": {},
   "outputs": [],
   "source": []
  }
 ],
 "metadata": {
  "kernelspec": {
   "display_name": "Python",
   "language": "python",
   "name": "conda-env-python-py"
  },
  "language_info": {
   "codemirror_mode": {
    "name": "ipython",
    "version": 3
   },
   "file_extension": ".py",
   "mimetype": "text/x-python",
   "name": "python",
   "nbconvert_exporter": "python",
   "pygments_lexer": "ipython3",
   "version": "3.7.12"
  }
 },
 "nbformat": 4,
 "nbformat_minor": 5
}
